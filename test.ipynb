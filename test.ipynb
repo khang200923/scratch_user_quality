{
 "cells": [
  {
   "cell_type": "code",
   "execution_count": 1,
   "metadata": {},
   "outputs": [],
   "source": [
    "from main import scratch_project_quality, scratch_user_quality"
   ]
  },
  {
   "cell_type": "code",
   "execution_count": 2,
   "metadata": {},
   "outputs": [
    {
     "name": "stdout",
     "output_type": "stream",
     "text": [
      "{'process': [['Planning the game mechanics and level design', 30], ['Creating the Appel character sprite and animations', 45], ['Programming character controls and gameplay logic', 60], ['Building levels, including placing platforms and obstacles', 90], ['Testing, debugging, and optimizing the game', 60]]}\n",
      "{'process': [['Design and create player sprites and backgrounds', 30], ['Implement movement controls and special moves', 40], ['Set up multiplayer functionality and player tracking', 50], ['Test and debug game mechanics including speed runs and feature updates', 60], ['Polish and finalize the user interface and tutorial instructions', 30]]}\n",
      "{'process': [['Conceptualization and Planning', 30], ['Sprite Designing and Animation', 60], ['Coding Core Mechanic (walking, jumping, eating blocks)', 90], ['Level Design and Implementation', 75], ['Testing, Debugging, and Updates', 45]]}\n",
      "{'process': [['Researching the original slither.io mechanics and gameplay', 20], ['Designing and creating custom sprites for players, food, and backgrounds', 60], ['Programming the main game logic: snake movement, food collection, collision detection', 120], ['Implementing multiplayer mechanics and optimizing for network lag', 90], ['Testing, debugging, and refining the game based on user feedback', 80]]}\n",
      "{'process': [['Define project scope and features based on MMO mechanics', 30], ['Design sprites and UI elements for the game', 120], ['Implement movement and interactions (mining, placing blocks)', 150], ['Create multiplayer system for player interactions and land claims', 240], ['Test and debug various features to ensure functionality', 180]]}\n",
      "{'process': [['Researching video sensing techniques and binary partitioned scanning', 20], ['Designing sprites and implementing initial project framework', 15], ['Programming the main scanning functionality with camera sensing', 30], ['Testing and debugging the scanning feature to ensure smooth performance', 25], ['Creating project documentation and polish before publishing', 10]]}\n",
      "{'process': [['Researching ball physics and implementing physics math', 25], ['Designing and creating sprites for balls, coins, and interface', 30], ['Coding ball mechanics, including collisions and angular velocity', 40], ['Creating the user interface for the timer and coin counter', 25], ['Debugging and testing the project for functionality and sound issues', 35]]}\n",
      "{'process': [['Initial Game Design and Concept Development', 30], ['Sprite Design and Animation Creation', 60], ['Level Design and Implementation', 90], ['Debugging and Enhancements', 75], ['Music and Sound Integration', 45]]}\n",
      "{'process': [['Conceptualizing game mechanics and design', 30], ['Creating sprites and backgrounds for the multiplayer environment', 45], ['Implementing multiplayer functionality and ensuring server stability', 120], ['Debugging and optimizing game performance and player interactions', 60], ['Adding achievements and refining controls based on user feedback', 40]]}\n",
      "{'process': [['Conceptualization and design', 30], ['Sprite and asset creation', 45], ['Programming core game mechanics', 90], ['Testing, debugging and optimization', 60], ['Final touches and polish', 30]]}\n",
      "{'process': [['Define project scope and functionalities', 30], ['Design and create user interface sprites', 60], ['Implement core Scratch emulator functionality', 120], ['Test and debug the emulator features', 90], ['Polish project and create instructions/tutorials', 30]]}\n",
      "{'process': [['Designing and importing sprites for Koopa and shells', 20], ['Setting up initial tile scrolling mechanics based on previous episodes', 40], ['Coding user controls including movement and interactions with Koopas and shells', 30], ['Implementing level editor functions and debugging them', 50], ['Testing, tweaking, and finalizing scripts for a smoother gameplay experience', 30]]}\n"
     ]
    },
    {
     "data": {
      "text/plain": [
       "105.20072338286269"
      ]
     },
     "execution_count": 2,
     "metadata": {},
     "output_type": "execute_result"
    }
   ],
   "source": [
    "scratch_user_quality(\"griffpatch\", 12)"
   ]
  },
  {
   "cell_type": "code",
   "execution_count": 3,
   "metadata": {},
   "outputs": [
    {
     "name": "stdout",
     "output_type": "stream",
     "text": [
      "{'process': [['Research and understand the Makey-Makey and radio control systems', 30], ['Design sprites for the Scratch project including backgrounds and interactive elements', 45], ['Develop Scratch code to integrate Makey-Makey inputs and radio control outputs', 60], ['Test, debug and finalize the project with various scenarios to ensure functionality', 50], ['Create instructions and documentation for users on how to set up and use the project', 25]]}\n",
      "{'process': [['1. Researching and Planning the Project - understanding how the color picker works and determining how to implement it', 15], ['2. Designing Sprites for the Sand Grains and Color Picker - creating custom designs for the respective sprites', 30], ['3. Coding the Color Picker Functionality - implementing the logic for selecting colors and dropping sand grains', 40], [\"4. Implementing Keyboard Controls and Fullscreen Functionality - enabling space bar and 'C' key functions and troubleshooting\", 25], ['5. Debugging and Testing the Project - running tests to fix any issues and making sure everything works smoothly', 30]]}\n",
      "{'process': [['Researching and gathering assets (sprites, music, etc.)', 15], ['Designing and creating the lab tables and props sprites', 30], ['Implementing the Scratch Cat and programming its animation and instructions', 25], ['Adding the music and synchronizing it with the actions in the project', 10], ['Testing and debugging to ensure everything works smoothly', 20]]}\n",
      "{'process': [[\"Researching April Fools' Day concepts and defining project scope\", 20], ['Designing the Baby Jester sprite and any additional graphics', 30], ['Coding game mechanics and implementing features (such as interactions, animations, etc.)', 40], ['Testing, debugging, and refining the project based on feedback and functionality', 30], ['Creating instructions and finalizing the project for publication', 10]]}\n",
      "{'process': [['Designing the maze layout and wall sprites', 20], ['Creating character sprites and implementing the click-to-change feature', 25], ['Implementing movement controls and collision detection with walls', 30], ['Adding background music and sound effects', 15], ['Testing and debugging the project for smooth gameplay', 25]]}\n",
      "{'process': [['Research on Dual Joysticks and MakeyMakey functionality', 15], ['Design the sprite for the joystick control', 20], ['Code the joystick control mechanics and integrate with Scratch', 30], ['Test the project for functionality and iterate for bugs', 25], ['Create a tutorial or instructions for users to understand how to use it', 15]]}\n",
      "{'process': [['Research and Concept Development', 15], ['Sprite Design and Animation', 30], ['Sound Design and SFX Integration', 20], ['Programming Logic for Recording and Playback', 40], ['Testing and Debugging', 25]]}\n",
      "{'process': [['Research the theme and message for BLM clarification', 15], ['Design and create sprites related to the project', 30], ['Select and embed the music extract from Sweet Honey in the Rock', 20], ['Develop the coding logic and interactions for the project', 40], ['Test, debug, and refine the project based on feedback', 25]]}\n",
      "{'process': [['Designing the main puzzle sprite and converting it to bitmap', 10], ['Creating multiple sprite copies for each puzzle piece and customizing each costume', 20], ['Writing scripts for moving, spinning, and resetting puzzle pieces', 15], ['Testing the game mechanics and debugging issues with movement and rotation', 25], ['Finalizing the project, including instructions and visual improvements', 10]]}\n",
      "{'process': [['Design Firework Sprites', 10], ['Implement Firework Simulation Logic', 25], ['Design Background and Add Starry Night Image', 15], ['Debugging and Testing', 20], ['Final Touches and Researching Effects', 10]]}\n",
      "{'process': [['Conceptualizing the project and planning the features (including penguin character, ATV mechanics, and controls)', 15], ['Designing and creating custom sprites for the penguin and ATV', 30], ['Implementing the music integration and ensuring it syncs correctly with the animations', 20], ['Coding the movement controls and testing/debugging to ensure proper functionality', 25], ['Finalizing the project with polish (adding sounds, ensuring everything works smoothly, creating instructions)', 15]]}\n",
      "{'process': [['Research the digits of Pi and prepare the list of the first 100 digits', 3], ['Design and implement the visual display for the digits including sprite management and color coding', 15], ['Create the code to show each digit in sequence along with audible effects', 10], ['Test the project for accuracy and flow; include bug fixing as necessary', 5], ['Final presentation polish including adding instructions and project metadata', 2]]}\n"
     ]
    },
    {
     "data": {
      "text/plain": [
       "40.99512429819291"
      ]
     },
     "execution_count": 3,
     "metadata": {},
     "output_type": "execute_result"
    }
   ],
   "source": [
    "scratch_user_quality(\"Paddle2See\", 12)"
   ]
  },
  {
   "cell_type": "code",
   "execution_count": null,
   "metadata": {},
   "outputs": [],
   "source": []
  }
 ],
 "metadata": {
  "kernelspec": {
   "display_name": "Python 3",
   "language": "python",
   "name": "python3"
  },
  "language_info": {
   "codemirror_mode": {
    "name": "ipython",
    "version": 3
   },
   "file_extension": ".py",
   "mimetype": "text/x-python",
   "name": "python",
   "nbconvert_exporter": "python",
   "pygments_lexer": "ipython3",
   "version": "3.12.6"
  }
 },
 "nbformat": 4,
 "nbformat_minor": 2
}
